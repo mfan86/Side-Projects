{
 "cells": [
  {
   "cell_type": "markdown",
   "metadata": {
    "colab_type": "text",
    "id": "xnRr0GjjBKTU"
   },
   "source": [
    "## Overview\n",
    "\n",
    "The purpose of this notebook is to train a neural network that is able to classify images to its correct category. We'll use the **[Fashion MNIST](https://github.com/zalandoresearch/fashion-mnist)** dataset, which contains 70,000 grayscale images of individual clothing articles divided into 10 different categories (each image is 28 x 28 pixels).\n",
    "\n",
    "![Example of Fashion MNIST](https://raw.githubusercontent.com/zalandoresearch/fashion-mnist/master/doc/img/fashion-mnist-sprite.png)"
   ]
  },
  {
   "cell_type": "code",
   "execution_count": 1,
   "metadata": {
    "colab": {
     "base_uri": "https://localhost:8080/",
     "height": 51
    },
    "colab_type": "code",
    "id": "IX9C6vXdBKTV",
    "outputId": "e84481e9-ea5d-4fb0-d336-bdfd5f8952d5"
   },
   "outputs": [
    {
     "name": "stdout",
     "output_type": "stream",
     "text": [
      "1.12.0\n",
      "2.1.6-tf\n"
     ]
    }
   ],
   "source": [
    "#Import TensorFlow and Keras\n",
    "import tensorflow as tf\n",
    "from tensorflow import keras\n",
    "\n",
    "#Import numpy, matplotlib and pandas\n",
    "import pandas as pd\n",
    "import numpy as np\n",
    "import matplotlib.pyplot as plt\n",
    "\n",
    "#Check TensorFlow and keras versioning to make sure we have the latest and greatest\n",
    "print(tf.__version__)\n",
    "print(tf.keras.__version__)"
   ]
  },
  {
   "cell_type": "code",
   "execution_count": 2,
   "metadata": {
    "colab": {
     "base_uri": "https://localhost:8080/",
     "height": 153
    },
    "colab_type": "code",
    "id": "SW7MHIGCBKTa",
    "outputId": "eb32303e-b804-40af-f31e-92e752f4900e"
   },
   "outputs": [],
   "source": [
    "#Import the dataset directly from TensorFlow\n",
    "fashion_mnist_data = keras.datasets.fashion_mnist\n",
    "\n",
    "#Load the dataset\n",
    "(train_images, train_labels), (test_images, test_labels) = fashion_mnist_data.load_data()"
   ]
  },
  {
   "cell_type": "markdown",
   "metadata": {
    "colab_type": "text",
    "id": "0xtwLjMwBKTc"
   },
   "source": [
    "## Explore the Data\n",
    "From the 70,000 images, we will use 60,000 images for training and the remaining 10,000 for inference.\n",
    "\n",
    "-  The *train_images* and *train_labels* are NumPy arrays that belong to the training set that the model uses to learn\n",
    "-  The model is then put to the test by doing inference on the *test_images* and *test_labels* NumPy arrays\n",
    "\n",
    "Furthermore, we'll also need to assign a numerical value to each category of clothing called class (shown below). Each image corresponds to a **single** label. Since the class names are not provided, we'll need to create a vector that contains the class names.\n",
    "\n",
    "![Labels](https://pravarmahajan.github.io/assets/images/fashion-MNIST/labels_table.png)"
   ]
  },
  {
   "cell_type": "code",
   "execution_count": 3,
   "metadata": {
    "colab": {
     "base_uri": "https://localhost:8080/",
     "height": 34
    },
    "colab_type": "code",
    "id": "GPUNEDMlBKTd",
    "outputId": "8a251129-9d18-4c3c-98e8-4b7587fd4758"
   },
   "outputs": [
    {
     "name": "stdout",
     "output_type": "stream",
     "text": [
      "['T-shirt/top', 'Trouser', 'Pullover', 'Dress', 'Coat', 'Sandal', 'Shirt', 'Sneaker', 'Bag', 'Ankle boot']\n"
     ]
    }
   ],
   "source": [
    "#Create the class names manually since it's not included in the dataset\n",
    "class_names = [\"T-shirt/top\", \"Trouser\", \"Pullover\", \"Dress\", \"Coat\", \n",
    "               \"Sandal\", \"Shirt\", \"Sneaker\", \"Bag\", \"Ankle boot\"]\n",
    "#Quick check\n",
    "print(class_names)"
   ]
  },
  {
   "cell_type": "code",
   "execution_count": 4,
   "metadata": {
    "colab": {
     "base_uri": "https://localhost:8080/",
     "height": 34
    },
    "colab_type": "code",
    "id": "JPRRv8bgBKTg",
    "outputId": "fe40124b-f99e-4b7a-cec5-05b9784c5a3d"
   },
   "outputs": [
    {
     "data": {
      "text/plain": [
       "(60000, 28, 28)"
      ]
     },
     "execution_count": 4,
     "metadata": {},
     "output_type": "execute_result"
    }
   ],
   "source": [
    "#Shape of the training image shows there are 60,000 images each represen\n",
    "train_images.shape"
   ]
  },
  {
   "cell_type": "code",
   "execution_count": 5,
   "metadata": {
    "colab": {
     "base_uri": "https://localhost:8080/",
     "height": 34
    },
    "colab_type": "code",
    "id": "kono11DpBKTi",
    "outputId": "31574128-a8aa-439e-c0a0-2b03593e3f52"
   },
   "outputs": [
    {
     "data": {
      "text/plain": [
       "60000"
      ]
     },
     "execution_count": 5,
     "metadata": {},
     "output_type": "execute_result"
    }
   ],
   "source": [
    "#Should also have 60,000 labels for the training set\n",
    "len(train_labels)"
   ]
  },
  {
   "cell_type": "code",
   "execution_count": 6,
   "metadata": {
    "colab": {
     "base_uri": "https://localhost:8080/",
     "height": 34
    },
    "colab_type": "code",
    "id": "G8V8n5fPBKTl",
    "outputId": "c60d17b0-76ff-42f3-b9d0-ee6d08939267"
   },
   "outputs": [
    {
     "data": {
      "text/plain": [
       "array([9, 0, 0, ..., 3, 0, 5], dtype=uint8)"
      ]
     },
     "execution_count": 6,
     "metadata": {},
     "output_type": "execute_result"
    }
   ],
   "source": [
    "#The 1st image of our training dataset has a label of 9, whuch corresponds to \"Ankle Boot\"\n",
    "train_labels"
   ]
  },
  {
   "cell_type": "code",
   "execution_count": 7,
   "metadata": {
    "colab": {
     "base_uri": "https://localhost:8080/",
     "height": 34
    },
    "colab_type": "code",
    "id": "qBI5KAINBKTn",
    "outputId": "35204fc2-6f2b-4573-d9f1-c968522baebe"
   },
   "outputs": [
    {
     "data": {
      "text/plain": [
       "(10000, 28, 28)"
      ]
     },
     "execution_count": 7,
     "metadata": {},
     "output_type": "execute_result"
    }
   ],
   "source": [
    "#Same thing, but with test/validation set\n",
    "test_images.shape"
   ]
  },
  {
   "cell_type": "code",
   "execution_count": 8,
   "metadata": {
    "colab": {
     "base_uri": "https://localhost:8080/",
     "height": 34
    },
    "colab_type": "code",
    "id": "51J2hlkzBKTr",
    "outputId": "46371dca-7a9f-4ef2-d315-a08c38f68b7b"
   },
   "outputs": [
    {
     "data": {
      "text/plain": [
       "10000"
      ]
     },
     "execution_count": 8,
     "metadata": {},
     "output_type": "execute_result"
    }
   ],
   "source": [
    "#10,000 labels in the test set\n",
    "len(test_labels)"
   ]
  },
  {
   "cell_type": "markdown",
   "metadata": {
    "colab_type": "text",
    "id": "5fRmTECGBKTt"
   },
   "source": [
    "## Data Pre-Processing\n",
    "Before any training can be done, we need to pre-process the data to normalize the varying degrees of pixel values. It's important to note that both the *training* and *test* set need to be normalized in the same fasion.\n",
    "\n",
    "In the MNIST dataset, pixel values fall in the range of [0, 255]. To normalize means we will turn each pixel value into a value that's between [0, 1]. For each pixel value, we take $$N_i = \\frac{x_j - min(x)}{max(x) - min(x)}$$ where $N_i$ is the $i^{th}$ normalized data and $x^i$ is the $j^{th}$ raw data. \n",
    "\n",
    "You can see that the pixel value for each image falls between 0 and 255 in output below. Thus, we'll go ahead and normalize the pixel values based on the equation above. I've also included an image just to show that each image is indeed 28 x 28 as well as the "
   ]
  },
  {
   "cell_type": "code",
   "execution_count": 11,
   "metadata": {
    "colab": {
     "base_uri": "https://localhost:8080/",
     "height": 51
    },
    "colab_type": "code",
    "id": "Ob7SQ3PyBKTu",
    "outputId": "ccc3406c-d443-44f3-ebae-f8910679ad7c"
   },
   "outputs": [
    {
     "name": "stdout",
     "output_type": "stream",
     "text": [
      "Training set pixel range: 0 , 255\n",
      "Test set pixel range: 0 , 255\n"
     ]
    }
   ],
   "source": [
    "#Max and min pixel values of the training set\n",
    "max_train_image = np.amax(train_images)\n",
    "min_train_image = np.amin(train_images)\n",
    "\n",
    "#Max and min pixel values of the test set\n",
    "max_test_image = np.amax(test_images)\n",
    "min_test_image = np.amin(test_images)\n",
    "\n",
    "print(str(\"Training set pixel range:\"), min_train_image, str(\",\"), max_train_image)\n",
    "print(str(\"Test set pixel range:\"), min_test_image, str(\",\"), max_test_image)"
   ]
  },
  {
   "cell_type": "code",
   "execution_count": null,
   "metadata": {
    "colab": {
     "base_uri": "https://localhost:8080/",
     "height": 347
    },
    "colab_type": "code",
    "id": "KoXuARDZBKTw",
    "outputId": "20da8fdc-bcda-4651-f0db-344afff23b5c"
   },
   "outputs": [],
   "source": [
    "#Displays the 1st image in the training set; looks like a sneaker or a boot\n",
    "plt.figure()\n",
    "plt.imshow(train_images[0], cmap = plt.cm.binary)\n",
    "plt.colorbar()\n",
    "plt.grid(False)\n",
    "plt.show()"
   ]
  },
  {
   "cell_type": "code",
   "execution_count": 13,
   "metadata": {
    "colab": {
     "base_uri": "https://localhost:8080/",
     "height": 351
    },
    "colab_type": "code",
    "id": "WsAaaMK4BKT0",
    "outputId": "d0be669c-d1cd-45e8-bb60-a818f5eb5ea5"
   },
   "outputs": [
    {
     "data": {
      "image/png": "[encoded data removed]",
      "text/plain": [
       "<Figure size 432x288 with 2 Axes>"
      ]
     },
     "metadata": {
      "needs_background": "light"
     },
     "output_type": "display_data"
    }
   ],
   "source": [
    "#Normalize both the training and test set\n",
    "train_images = (train_images - min_train_image) / (max_train_image - min_train_image)\n",
    "test_images = (test_images - min_test_image) / (max_test_image - min_test_image)\n",
    "\n",
    "#Displays the 1st normalized image in the training set\n",
    "plt.figure()\n",
    "plt.imshow(train_images[0], cmap = plt.cm.binary)\n",
    "plt.colorbar()\n",
    "plt.grid(False)\n",
    "plt.show()"
   ]
  },
  {
   "cell_type": "code",
   "execution_count": 14,
   "metadata": {
    "colab": {
     "base_uri": "https://localhost:8080/",
     "height": 476
    },
    "colab_type": "code",
    "id": "65uZdAepBKT2",
    "outputId": "5cc51114-aee1-4e14-d8d1-a06b362c16e9",
    "scrolled": true
   },
   "outputs": [
    {
     "data": {
      "image/png": "[encoded data removed]",
      "text/plain": [
       "<Figure size 720x720 with 20 Axes>"
      ]
     },
     "metadata": {},
     "output_type": "display_data"
    }
   ],
   "source": [
    "# Displays the 1st 20 images from the training set\n",
    "plt.figure(figsize = (10, 10)) #Figure size are in inches\n",
    "for i in range(20): #Number of images in the loop we want to display\n",
    "    plt.subplot(5, 5, i+1) #Dimension for each image\n",
    "    plt.xticks([]) #Removes all tick marks on the x-axis\n",
    "    plt.yticks([]) #Removes all tick marks on the y-axis\n",
    "    plt.imshow(train_images[i], cmap = plt.cm.binary) #Colormap used to map normalized values of the pixels to RGBA colors\n",
    "    plt.xlabel(class_names[train_labels[i]]) #Adding labels to the i^th imag"
   ]
  },
  {
   "cell_type": "markdown",
   "metadata": {
    "colab_type": "text",
    "id": "707nQejHBKT6"
   },
   "source": [
    "## Model Building\n",
    "Building a neural network requires us to configure the layers of the network and compile the model. \n",
    "\n",
    "### Defining Model Architecture\n",
    "There are 3 high-level layers in a neural network architecture:\n",
    "\n",
    "1.  **Input layer:**These are the input variables that will be fed into the network; no computation is performed at this layer, nodes here just pass on the information(features) to the hidden layer\n",
    "2. **Hidden layer:** Contain neurons that extract representations and meaning from the previous layer\n",
    "3. **Output layer:** Gives the output (i.e. probability of an image belowing to a category) through an activation function (i.e. Recitified Linear Unit, Softmax)\n",
    "    -  **Activation Functions** are very important in neural networks because they decide whether a neuron should be activated or whether the information that the neuron is receiving is relevant for the given information or should it be ignored. The activation function is the non-linear transformation that we do over the input signal, which is done by calculating the weighted sum of the input and adding bias with it. This transformed output is then sent to the next layer of our network as input. "
   ]
  },
  {
   "cell_type": "code",
   "execution_count": 15,
   "metadata": {
    "colab": {},
    "colab_type": "code",
    "id": "8ifw2LUdBKT7"
   },
   "outputs": [],
   "source": [
    "#Setting up 4 layers of our network\n",
    "model = keras.Sequential([\n",
    "    keras.layers.Flatten(input_shape = (28, 28)), #Transforms 2D array into 1D array\n",
    "    keras.layers.Dense(128, activation = tf.nn.relu),#1st hidden layer that consists of 128 nodes\n",
    "    keras.layers.Dense(128, activation = tf.nn.relu),#2nd hidden layer that consists of 128 nodes\n",
    "    keras.layers.Dense(10, activation = tf.nn.softmax) #output layer that returns the probability score for the 10 classes\n",
    "])"
   ]
  },
  {
   "cell_type": "markdown",
   "metadata": {
    "colab_type": "text",
    "id": "0eH1KsKhBKT9"
   },
   "source": [
    "#### Layer Explanation\n",
    "-  **keras.layers.Flatten:** Transforms the original image from a 2D array of 28 x 28 pixels into a 1D array of 784 pixels (28 * 28). There is no learning involved here, just reformatting the data.\n",
    "-  **keras.layers.Dense (ReLu):** This layer has 128 neurons or nodes. Additionally, we're using the Rectified Linear Unit (ReLu) activation function to calculate the weights that will be fed forward into the next layer. Mathmatically, ReLu is expressed: $$f(x) = max(0, x)$$ This means that the function returns 0 if it receives any negative, but for positive values $x$, it returns that value back. It's very fast and computationally efficient because it's implemented using simple thresholding. This also makes ReLu one of the most popular activation functions.\n",
    "-  **keras.layers.Dense (Softmax):** Consist of 10 neurons that turns the vector of values from the previous layer into a probability distrbuiton over the 10 classes. In other words, each neuron contains a probability score that indicates the likelihood that the image belongs to one of the 10 classes. Mathmatically, it can be expressed as: ![](https://i.stack.imgur.com/iP8Du.png) where $y_i$ refers to each element in the vector (see example below for a quick side example of how Softmax function works). The sum of the probability should add up to 1. "
   ]
  },
  {
   "cell_type": "code",
   "execution_count": 16,
   "metadata": {
    "colab": {
     "base_uri": "https://localhost:8080/",
     "height": 51
    },
    "colab_type": "code",
    "id": "3Q3ZzNPxBKT-",
    "outputId": "148f5a48-b736-4465-ae59-b28ef56a63a0",
    "scrolled": true
   },
   "outputs": [
    {
     "name": "stdout",
     "output_type": "stream",
     "text": [
      "Probability of each vector value: [0.5147436111393937, 0.38133144611156783, 0.10392494274903852]\n",
      "Sum of the probability: 1.0\n"
     ]
    }
   ],
   "source": [
    "#Quick demo of how the Softmax function works mathmatically\n",
    "vector = [3.0, 2.7, 1.4] #Let's pretend we have a vector of values named \"vector\"\n",
    "exps = [np.exp(i) for i in vector] #computes exponetual value of each element in the vector (top part of the equation)\n",
    "sum_of_all_exps = sum(exps) #sums up all of the transformed values\n",
    "softmax = [j/sum_of_all_exps for j in exps] #computes the probability of each element in the original vector\n",
    "\n",
    "print(\"Probability of each vector value:\", softmax)\n",
    "print(\"Sum of the probability:\",sum(softmax))"
   ]
  },
  {
   "cell_type": "markdown",
   "metadata": {
    "colab_type": "text",
    "id": "ghaRgEBhBKUB"
   },
   "source": [
    "### Compile the Model\n",
    "Before the model is ready for training, it needs a few more settings to be defined. Specifically, they're:\n",
    "-  **Loss Function:** This measures how accurate the model is during training in which we look at our prediction/classification to the actual result/label. Our goal is to minimize this function to reach convergence in which the set of weights have minimized the errors. \n",
    "-  **Optimizer:** Determines how the weights get updated based on the training data and the loss function.\n",
    "-  **Metrics:** Used to monitor the performance of our multi-class classifier. We're going to use accuracy as the key metric, which is the fraction of images that were correctly classified out of the 10,000 images in the test set. "
   ]
  },
  {
   "cell_type": "code",
   "execution_count": null,
   "metadata": {
    "colab": {},
    "colab_type": "code",
    "id": "3tdyAto4BKUB"
   },
   "outputs": [],
   "source": [
    "#Compile model using the 3 settings above\n",
    "model.compile(loss = \"sparse_categorical_crossentropy\", #Because each target label is mapped to an integer; not 1-hot encoded\n",
    "                 optimizer = \"adam\", #Extension to stochastic gradient descent; popular and effective\n",
    "                 metrics = [\"accuracy\"]) #correctly classified images"
   ]
  },
  {
   "cell_type": "markdown",
   "metadata": {
    "colab_type": "text",
    "id": "V2_mD5dDBKUC"
   },
   "source": [
    "## Model Training\n",
    "We will train our neural network in the following steps:\n",
    "1. Feed training images and labels (60,000)\n",
    "2. Model extracts key features and learns to associate those key features with labels\n",
    "3. Apply the candidate model to the test set and labels (10,000) to evaluate peformance"
   ]
  },
  {
   "cell_type": "code",
   "execution_count": null,
   "metadata": {
    "colab": {
     "base_uri": "https://localhost:8080/",
     "height": 238
    },
    "colab_type": "code",
    "id": "oL5P3PPmBKUE",
    "outputId": "4efda039-edc0-4222-8317-5acc16779d0b",
    "scrolled": true
   },
   "outputs": [],
   "source": [
    "#Epochs mean when all training images have been processed once. 6 epochs means we're doing this 6 times\n",
    "#Loss is just a fancy word for error; the lower, the better\n",
    "model.fit(train_images, train_labels, epochs = 2)"
   ]
  },
  {
   "cell_type": "markdown",
   "metadata": {
    "colab_type": "text",
    "id": "OdpaGxO3BKUF"
   },
   "source": [
    "## Evaluate Accuracy\n",
    "Once the model is trained, we will apply it to the test set of 10,000 images that the neural network haven't seen before."
   ]
  },
  {
   "cell_type": "code",
   "execution_count": null,
   "metadata": {
    "colab": {
     "base_uri": "https://localhost:8080/",
     "height": 51
    },
    "colab_type": "code",
    "id": "jVsyu24mBKUG",
    "outputId": "0fa4761a-d132-4fc9-929f-602131d90185",
    "scrolled": true
   },
   "outputs": [],
   "source": [
    "test_loss, test_acc = model.evaluate(test_images, test_labels)\n",
    "print(\"Test accuracy:\", test_acc)"
   ]
  },
  {
   "cell_type": "markdown",
   "metadata": {
    "colab_type": "text",
    "id": "M2LZhJbbBKUI"
   },
   "source": [
    "It turns out, the accuracy on the test dataset is a little less than the accuracy on the training dataset. This gap between training accuracy and test accuracy is an example of _overfitting_. Overfitting is when the model performs worse on new data than on the training data.\n",
    "\n",
    "## Inference"
   ]
  },
  {
   "cell_type": "code",
   "execution_count": null,
   "metadata": {
    "colab": {
     "base_uri": "https://localhost:8080/",
     "height": 51
    },
    "colab_type": "code",
    "id": "y6pzWeu-BKUI",
    "outputId": "7d1cb1ae-bb1a-4cb4-a18e-c00574e18d68"
   },
   "outputs": [],
   "source": [
    "predict = model.predict(test_images) #define the predict function\n",
    "predict[10] #predict the i^th image in our test set\n",
    "predicted_class = class_names[np.argmax(predict[0])] #predict the i^th image in our test set & the class with the highest probability\n",
    "actual_class = class_names[test_labels[0]] #actual class of the i^th image in our test set\n",
    "\n",
    "print(\"Predicted\", predicted_class)\n",
    "print(\"Actual:\", actual_class)"
   ]
  },
  {
   "cell_type": "code",
   "execution_count": null,
   "metadata": {
    "colab": {},
    "colab_type": "code",
    "id": "J3k2tCp9BKUK"
   },
   "outputs": [],
   "source": [
    "#Setting up the plot space\n",
    "def plot_image(i, predict_array, true_label, img):\n",
    "    predict_array, true_label, img = predict_array[i], true_label[i], img[i]\n",
    "    plt.grid(False)\n",
    "    plt.xticks([])\n",
    "    plt.yticks([])\n",
    "    plt.imshow(img, cmap = plt.cm.binary)\n",
    "    \n",
    "    predicted_label = np.argmax(predict_array)\n",
    "    if predicted_label == true_label:\n",
    "        color = \"green\"\n",
    "    else:\n",
    "        color = \"red\"\n",
    "        \n",
    "    plt.xlabel(\"{} {:2.0f}% ({})\".format(class_names[predicted_label],\n",
    "                                100 * np.max(predict_array),\n",
    "                                class_names[true_label]),\n",
    "                                color = color)"
   ]
  },
  {
   "cell_type": "code",
   "execution_count": null,
   "metadata": {
    "colab": {
     "base_uri": "https://localhost:8080/",
     "height": 344
    },
    "colab_type": "code",
    "id": "jvHGdJE9BKUM",
    "outputId": "9360b48c-e495-4e1f-a1ef-5b4bf80ff1cf"
   },
   "outputs": [],
   "source": [
    "#Single image classification in the test set\n",
    "#Correct predictions are in green, incorrect predictions are in red\n",
    "i = 2\n",
    "plot_image(i, predict, test_labels, test_images)"
   ]
  },
  {
   "cell_type": "code",
   "execution_count": null,
   "metadata": {
    "colab": {
     "base_uri": "https://localhost:8080/",
     "height": 589
    },
    "colab_type": "code",
    "id": "RYuzGUrdBKUN",
    "outputId": "451d3533-6a31-4c40-ef8e-5558b7feadb9",
    "scrolled": true
   },
   "outputs": [],
   "source": [
    "#Plots the first 20 images, their predicted label and the true label\n",
    "#Correct predictions are in green, incorrect predictions are in red\n",
    "num_rows = 5\n",
    "num_cols = 4\n",
    "num_images = num_rows * num_cols\n",
    "plt.figure(figsize = (2 * 2 * num_cols, 2 * num_rows))\n",
    "for i in range(num_images):\n",
    "    plt.subplot(num_rows, 2 * num_cols, 2 * i + 1)\n",
    "    plot_image(i, predict, test_labels, test_images)"
   ]
  },
  {
   "cell_type": "markdown",
   "metadata": {
    "colab_type": "text",
    "id": "myk1r3cBBKUP"
   },
   "source": [
    "As you can see, even images with high confidence could still be wrong. This is a good reminder that machine learning produces probablistic outcomes and one should always evaluate the cost of false/wrong predictions before applying it to business problems. "
   ]
  }
 ],
 "metadata": {
  "colab": {
   "name": "Image Classifier_Fashion MNIST (Mike Fan).ipynb",
   "provenance": [],
   "version": "0.3.2"
  },
  "kernelspec": {
   "display_name": "Python 3",
   "language": "python",
   "name": "python3"
  },
  "language_info": {
   "codemirror_mode": {
    "name": "ipython",
    "version": 3
   },
   "file_extension": ".py",
   "mimetype": "text/x-python",
   "name": "python",
   "nbconvert_exporter": "python",
   "pygments_lexer": "ipython3",
   "version": "3.6.6"
  }
 },
 "nbformat": 4,
 "nbformat_minor": 1
}
